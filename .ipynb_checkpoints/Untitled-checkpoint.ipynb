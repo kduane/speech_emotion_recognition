{
 "cells": [
  {
   "cell_type": "code",
   "execution_count": 4,
   "metadata": {},
   "outputs": [
    {
     "ename": "IndentationError",
     "evalue": "unindent does not match any outer indentation level (<tokenize>, line 17)",
     "output_type": "error",
     "traceback": [
      "\u001b[0;36m  File \u001b[0;32m\"<tokenize>\"\u001b[0;36m, line \u001b[0;32m17\u001b[0m\n\u001b[0;31m    print(f'2,000 tracks have been scraped successfully...')\u001b[0m\n\u001b[0m    ^\u001b[0m\n\u001b[0;31mIndentationError\u001b[0m\u001b[0;31m:\u001b[0m unindent does not match any outer indentation level\n"
     ]
    }
   ],
   "source": [
    "def get_liked_songs():\n",
    "    df = pd.DataFrame()\n",
    "    scope='user-library-read'\n",
    "    token = get_token(scope='user-library-read')\n",
    "    sp = spotipy.Spotify(auth=token, auth_manager=SpotifyOAuth(scope=scope))\n",
    "    tracks_data = sp.current_user_saved_tracks()\n",
    "    for i in range(-1, 2000, 50): \n",
    "        tracks_data = sp.current_user_saved_tracks(offset = i, limit =50)\n",
    "        for x in range(len(tracks_data['tracks']['items'])):\n",
    "                audio_features = sp.audio_features(tracks_data['tracks']['items'][x]['uri'])\n",
    "                features_df = pd.DataFrame.from_dict(audio_features)\n",
    "                features_df['track_name'] = tracks_data['tracks']['items'][x]['name']\n",
    "                features_df['artist_name'] = tracks_data['tracks']['items'][x]['artists'][0]['name']\n",
    "                features_df['year'] = year\n",
    "                sleep(5)\n",
    "                df = pd.concat([df, features_df], ignore_index=True)\n",
    "    print(f'2,000 tracks have been scraped successfully...')\n",
    "    df.to_csv('dataframe', index = False)"
   ]
  },
  {
   "cell_type": "code",
   "execution_count": null,
   "metadata": {},
   "outputs": [],
   "source": [
    "def get_liked_songs():\n",
    "    songs = []\n",
    "    scope = 'user-library-read'\n",
    "    token = get_token(scope= 'user-library-read')\n",
    "    sp = spotipy.Spotify(auth=token, auth_manager=SpotifyOAuth(scope=scope))\n",
    "    tracks_data = sp.current_user_saved_tracks()\n",
    "    for i in range(-1, 2000, 50): \n",
    "            #set i to new index from -1 to 2000 in increments of 50\n",
    "            tracks_data = sp.current_user_saved_tracks(offset = i, limit =50)\n",
    "            #do something else\n",
    "            "
   ]
  }
 ],
 "metadata": {
  "kernelspec": {
   "display_name": "Python 3",
   "language": "python",
   "name": "python3"
  },
  "language_info": {
   "codemirror_mode": {
    "name": "ipython",
    "version": 3
   },
   "file_extension": ".py",
   "mimetype": "text/x-python",
   "name": "python",
   "nbconvert_exporter": "python",
   "pygments_lexer": "ipython3",
   "version": "3.7.7"
  }
 },
 "nbformat": 4,
 "nbformat_minor": 4
}
