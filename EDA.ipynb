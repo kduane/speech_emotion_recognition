{
 "cells": [
  {
   "cell_type": "code",
   "execution_count": 1,
   "metadata": {},
   "outputs": [],
   "source": [
    "import librosa\n",
    "import soundfile\n",
    "import os, glob, pickle\n",
    "import numpy as np\n",
    "import pandas as pd\n",
    "import matplotlib.pyplot as plt\n",
    "import seaborn as sns\n",
    "\n",
    "from pydub import AudioSegment\n",
    "np.random.seed(9) #For the Mighty Nein!"
   ]
  },
  {
   "cell_type": "markdown",
   "metadata": {},
   "source": [
    "# Phase 1 - Problem Definition"
   ]
  },
  {
   "cell_type": "markdown",
   "metadata": {},
   "source": [
    "## 1.1 Broad Goals\n",
    "\n",
    "A Speech Emotion Recognition model allows a program to correctly identify the emotional state of a speaker.\n",
    "\n"
   ]
  },
  {
   "cell_type": "markdown",
   "metadata": {},
   "source": [
    "## 1.2 Data Source\n",
    "\n",
    "The Ryerson Audio-Visual Database of Emotional Speech and Song (RAVDESS) includes 24 professional voice actors, 12 male, 12 female speaking the same two lines.  The full dataset includes both audio and visual files.  \n",
    "\n",
    "### Spoken Files\n",
    "| Actor |  Emotion | Intensity      | Statement | Repetition |\n",
    "| :---: |:--------:| :-------------:| :--------:| :--------: |\n",
    "| 01- 24| calm     | normal, strong | 01, 02    |  01, 02    |\n",
    "| 01- 24| happy    | normal, strong | 01, 02    |  01, 02    |\n",
    "| 01- 24| sad      | normal, strong | 01, 02    |  01, 02    |\n",
    "| 01- 24| angry    | normal, strong | 01, 02    |  01, 02    |\n",
    "| 01- 24| fearful  | normal, strong | 01, 02    |  01, 02    |\n",
    "| 01- 24| surprise | normal, strong | 01, 02    |  01, 02    |\n",
    "| 01- 24| disgust  | normal, strong | 01, 02    |  01, 02    |\n",
    "| 01- 24| neutral  | normal         | 01, 02    |  01, 02    |\n",
    "\n",
    "Statement 01:  \"Kids are talking by the door\"\n",
    "\n",
    "Statement 02:  \"Dogs are sitting by the door\"\n",
    "\n",
    "Intensity 01:  \"Normal\"\n",
    "\n",
    "Intensity 02:  \"Strong\"\n",
    "\n",
    "### Song Files\n",
    "| Actor |  Emotion | Intensity      | Statement | Repetition |\n",
    "| :---: |:--------:| :-------------:| :--------:| :--------: |\n",
    "| 01- 24| calm     | normal, strong | 01, 02    |  01, 02    |\n",
    "| 01- 24| happy    | normal, strong | 01, 02    |  01, 02    |\n",
    "| 01- 24| sad      | normal, strong | 01, 02    |  01, 02    |\n",
    "| 01- 24| angry    | normal, strong | 01, 02    |  01, 02    |\n",
    "| 01- 24| fearful  | normal, strong | 01, 02    |  01, 02    |\n",
    "\n",
    "\n",
    "\n",
    "\n",
    "Full Dataset available at:\n",
    "https://smartlaboratory.org/ravdess/\n",
    "\n",
    "\n",
    "For the purposes of this project we will be examining the audio-only files."
   ]
  },
  {
   "cell_type": "markdown",
   "metadata": {},
   "source": [
    "## 1.3 Problem Statement\n",
    "\n",
    "    How accurately can the model predict the emotion of the speaker?  Does the model lose or gain accuracy when the statement is spoken or sung?"
   ]
  },
  {
   "cell_type": "markdown",
   "metadata": {},
   "source": [
    "# Phase 2:  Data Gathering"
   ]
  },
  {
   "cell_type": "markdown",
   "metadata": {},
   "source": [
    "## 2.1 define functions to parse sound files\n"
   ]
  },
  {
   "cell_type": "code",
   "execution_count": 2,
   "metadata": {},
   "outputs": [],
   "source": [
    "def extract_feature(file_name, mfcc, chroma, mel):\n",
    "    with soundfile.SoundFile(file_name) as sound_file:\n",
    "        X = sound_file.read(dtype=\"float32\")\n",
    "        sample_rate=sound_file.samplerate\n",
    "        if chroma:\n",
    "            stft=np.abs(librosa.stft(X))\n",
    "        result=np.array([])\n",
    "        if mfcc:\n",
    "            mfccs=np.mean(librosa.feature.mfcc(y=X, sr=sample_rate, n_mfcc=40).T, axis=0)\n",
    "            result=np.hstack((result, mfccs))\n",
    "        if chroma:\n",
    "            chroma2=np.mean(librosa.feature.chroma_stft(S=stft, sr=sample_rate).T,axis=0)\n",
    "            result=np.hstack((result, chroma2))\n",
    "        if mel:\n",
    "            mel=np.mean(librosa.feature.melspectrogram(X, sr=sample_rate).T,axis=0)\n",
    "            result=np.hstack((result, mel))\n",
    "    return result\n"
   ]
  },
  {
   "cell_type": "markdown",
   "metadata": {},
   "source": [
    "## 2.1 load data"
   ]
  },
  {
   "cell_type": "code",
   "execution_count": 3,
   "metadata": {},
   "outputs": [],
   "source": [
    "emotions = {\n",
    "    '01' : 'neutral',\n",
    "    '02' : 'calm',\n",
    "    '03' : 'happy',\n",
    "    '04' : 'sad',\n",
    "    '05' : 'angry',\n",
    "    '06' : 'fearful',\n",
    "    '07' : 'disgust',\n",
    "    '08' : 'surprised'\n",
    "}"
   ]
  },
  {
   "cell_type": "code",
   "execution_count": 4,
   "metadata": {},
   "outputs": [],
   "source": [
    "vocal_channels = {\n",
    "    '01' : 'speech',\n",
    "    '02' : 'song'\n",
    "}"
   ]
  },
  {
   "cell_type": "code",
   "execution_count": 5,
   "metadata": {},
   "outputs": [],
   "source": [
    "emotional_intensities = {\n",
    "    '01' : 'normal',\n",
    "    '02' : 'strong'\n",
    "}"
   ]
  },
  {
   "cell_type": "code",
   "execution_count": 6,
   "metadata": {},
   "outputs": [],
   "source": [
    "statements = {\n",
    "    '01' : 'Kids are talking by the door',\n",
    "    '02' : 'Dogs are sitting by the door'\n",
    "}"
   ]
  },
  {
   "cell_type": "code",
   "execution_count": 12,
   "metadata": {},
   "outputs": [],
   "source": [
    "def load_data():\n",
    "    features = []\n",
    "    for file in glob.glob('./data/samples/*.wav'):\n",
    "        file_name = os.path.basename(file)\n",
    "        feature_dict = {\n",
    "            'file_name' : file_name[:-4],\n",
    "            'channel' : vocal_channels[file_name.split('-')[1]],\n",
    "            'emotion' : emotions[file_name.split(\"-\")[2]],\n",
    "            'intensity' : emotional_intensities[file_name.split(\"-\")[3]],\n",
    "            'statement' : statements[file_name.split('-')[4]],\n",
    "            'repetition' : file_name.split('-')[5],\n",
    "            'actor' : file_name.split('-')[6][:-4],\n",
    "            'feature' : extract_feature(file, mfcc= True, chroma = True, mel = True) }\n",
    "        features.append(feature_dict)\n",
    "        print(F\"now loading {file_name}\")\n",
    "    return pd.DataFrame.from_dict(features)"
   ]
  },
  {
   "cell_type": "code",
   "execution_count": 13,
   "metadata": {
    "tags": [
     "outputPrepend"
    ]
   },
   "outputs": [
    {
     "output_type": "stream",
     "name": "stdout",
     "text": "-03-02-01-02-06.wav\nnow loading 03-02-05-01-01-01-06.wav\nnow loading 03-02-06-01-01-02-12.wav\nnow loading 03-02-02-01-01-01-16.wav\nnow loading 03-02-01-01-01-02-02.wav\nnow loading 03-01-04-02-01-02-16.wav\nnow loading 03-01-07-02-01-01-02.wav\nnow loading 03-01-04-02-01-02-02.wav\nnow loading 03-01-07-02-01-01-16.wav\nnow loading 03-02-02-01-01-01-02.wav\nnow loading 03-02-01-01-01-02-16.wav\nnow loading 03-02-02-02-02-01-02.wav\nnow loading 03-01-04-01-02-02-02.wav\nnow loading 03-01-07-01-02-01-16.wav\nnow loading 03-01-04-01-02-02-16.wav\nnow loading 03-01-07-01-02-01-02.wav\nnow loading 03-02-02-02-02-01-16.wav\nnow loading 03-02-05-02-02-01-06.wav\nnow loading 03-02-06-02-02-02-12.wav\nnow loading 03-01-03-01-02-02-06.wav\nnow loading 03-01-03-01-02-02-12.wav\nnow loading 03-02-05-02-02-01-12.wav\nnow loading 03-02-06-02-02-02-06.wav\nnow loading 03-02-02-01-02-01-22.wav\nnow loading 03-01-04-02-02-02-22.wav\nnow loading 03-01-07-02-02-01-22.wav\nnow loading 03-02-01-01-02-02-22.wav\nnow loading 03-01-07-01-01-01-22.wav\nnow loading 03-01-04-01-01-02-22.wav\nnow loading 03-02-02-02-01-01-22.wav\nnow loading 03-02-03-01-02-02-02.wav\nnow loading 03-01-08-02-01-01-14.wav\nnow loading 03-01-06-02-02-02-16.wav\nnow loading 03-01-05-02-02-01-02.wav\nnow loading 03-01-06-02-02-02-02.wav\nnow loading 03-01-05-02-02-01-16.wav\nnow loading 03-02-03-01-02-02-16.wav\nnow loading 03-02-04-01-02-02-06.wav\nnow loading 03-01-02-02-02-01-06.wav\nnow loading 03-01-02-02-02-01-12.wav\nnow loading 03-02-04-01-02-02-12.wav\nnow loading 03-02-04-02-01-02-12.wav\nnow loading 03-01-01-01-01-02-06.wav\nnow loading 03-01-02-01-01-01-12.wav\nnow loading 03-01-01-01-01-02-12.wav\nnow loading 03-01-02-01-01-01-06.wav\nnow loading 03-02-04-02-01-02-06.wav\nnow loading 03-02-03-02-01-02-16.wav\nnow loading 03-01-06-01-01-02-02.wav\nnow loading 03-01-05-01-01-01-16.wav\nnow loading 03-01-06-01-01-02-16.wav\nnow loading 03-01-05-01-01-01-02.wav\nnow loading 03-02-03-02-01-02-02.wav\nnow loading 03-01-08-01-02-01-14.wav\nnow loading 03-01-08-02-02-01-20.wav\nnow loading 03-01-06-02-01-02-22.wav\nnow loading 03-01-05-02-01-01-22.wav\nnow loading 03-02-03-01-01-02-22.wav\nnow loading 03-01-08-02-02-01-08.wav\nnow loading 03-01-08-01-01-01-08.wav\nnow loading 03-02-03-02-02-02-22.wav\nnow loading 03-01-05-01-02-01-22.wav\nnow loading 03-01-06-01-02-02-22.wav\nnow loading 03-01-08-01-01-01-20.wav\nnow loading 03-01-05-01-02-01-20.wav\nnow loading 03-01-02-01-02-01-18.wav\nnow loading 03-02-03-02-02-02-20.wav\nnow loading 03-01-08-01-01-01-22.wav\nnow loading 03-01-01-01-02-02-18.wav\nnow loading 03-01-06-01-02-02-20.wav\nnow loading 03-01-02-01-02-01-24.wav\nnow loading 03-01-06-01-02-02-08.wav\nnow loading 03-02-04-02-02-02-24.wav\nnow loading 03-02-03-02-02-02-08.wav\nnow loading 03-01-05-01-02-01-08.wav\nnow loading 03-01-01-01-02-02-24.wav\nnow loading 03-01-05-02-01-01-08.wav\nnow loading 03-02-03-01-01-02-08.wav\nnow loading 03-02-04-01-01-02-24.wav\nnow loading 03-01-06-02-01-02-08.wav\nnow loading 03-01-02-02-01-01-24.wav\nnow loading 03-01-06-02-01-02-20.wav\nnow loading 03-01-08-02-02-01-22.wav\nnow loading 03-02-03-01-01-02-20.wav\nnow loading 03-01-02-02-01-01-18.wav\nnow loading 03-01-05-02-01-01-20.wav\nnow loading 03-01-05-01-01-01-14.wav\nnow loading 03-02-03-02-01-02-14.wav\nnow loading 03-01-08-01-02-01-02.wav\nnow loading 03-01-08-01-02-01-16.wav\nnow loading 03-01-06-01-01-02-14.wav\nnow loading 03-01-02-01-01-01-10.wav\nnow loading 03-01-01-01-01-02-04.wav\nnow loading 03-02-04-02-01-02-10.wav\nnow loading 03-02-04-02-01-02-04.wav\nnow loading 03-01-02-01-01-01-04.wav\nnow loading 03-01-01-01-01-02-10.wav\nnow loading 03-01-02-02-02-01-04.wav\nnow loading 03-02-04-01-02-02-04.wav\nnow loading 03-02-04-01-02-02-10.wav\nnow loading 03-01-02-02-02-01-10.wav\nnow loading 03-01-06-02-02-02-14.wav\nnow loading 03-01-08-02-01-01-16.wav\nnow loading 03-02-03-01-02-02-14.wav\nnow loading 03-01-08-02-01-01-02.wav\nnow loading 03-01-05-02-02-01-14.wav\nnow loading 03-01-04-01-01-02-08.wav\nnow loading 03-02-02-02-01-01-08.wav\nnow loading 03-02-06-02-01-02-24.wav\nnow loading 03-02-05-02-01-01-24.wav\nnow loading 03-01-03-01-01-02-24.wav\nnow loading 03-01-07-01-01-01-08.wav\nnow loading 03-01-07-01-01-01-20.wav\nnow loading 03-02-02-02-01-01-20.wav\nnow loading 03-01-04-01-01-02-20.wav\nnow loading 03-01-03-01-01-02-18.wav\nnow loading 03-01-03-02-02-02-18.wav\nnow loading 03-01-04-02-02-02-20.wav\nnow loading 03-02-02-01-02-01-20.wav\nnow loading 03-02-01-01-02-02-20.wav\nnow loading 03-01-07-02-02-01-20.wav\nnow loading 03-01-07-02-02-01-08.wav\nnow loading 03-01-03-02-02-02-24.wav\nnow loading 03-02-01-01-02-02-08.wav\nnow loading 03-02-05-01-02-01-24.wav\nnow loading 03-02-06-01-02-02-24.wav\nnow loading 03-02-02-01-02-01-08.wav\nnow loading 03-01-04-02-02-02-08.wav\nnow loading 03-01-03-01-02-02-04.wav\nnow loading 03-02-06-02-02-02-10.wav\nnow loading 03-02-05-02-02-01-04.wav\nnow loading 03-02-06-02-02-02-04.wav\nnow loading 03-02-05-02-02-01-10.wav\nnow loading 03-01-03-01-02-02-10.wav\nnow loading 03-01-07-01-02-01-14.wav\nnow loading 03-02-02-02-02-01-14.wav\nnow loading 03-01-04-01-02-02-14.wav\nnow loading 03-01-04-02-01-02-14.wav\nnow loading 03-02-02-01-01-01-14.wav\nnow loading 03-02-01-01-01-02-14.wav\nnow loading 03-01-07-02-01-01-14.wav\nnow loading 03-01-03-02-01-02-10.wav\nnow loading 03-02-06-01-01-02-04.wav\nnow loading 03-02-05-01-01-01-10.wav\nnow loading 03-02-06-01-01-02-10.wav\nnow loading 03-02-05-01-01-01-04.wav\nnow loading 03-01-03-02-01-02-04.wav\nnow loading 03-02-05-01-01-01-05.wav\nnow loading 03-02-06-01-01-02-11.wav\nnow loading 03-01-03-02-01-02-05.wav\nnow loading 03-01-03-02-01-02-11.wav\nnow loading 03-02-05-01-01-01-11.wav\nnow loading 03-02-06-01-01-02-05.wav\nnow loading 03-02-02-01-01-01-01.wav\nnow loading 03-02-01-01-01-02-15.wav\nnow loading 03-01-04-02-01-02-01.wav\nnow loading 03-01-07-02-01-01-15.wav\nnow loading 03-01-04-02-01-02-15.wav\nnow loading 03-01-07-02-01-01-01.wav\nnow loading 03-02-02-01-01-01-15.wav\nnow loading 03-02-01-01-01-02-01.wav\nnow loading 03-02-02-02-02-01-15.wav\nnow loading 03-01-04-01-02-02-15.wav\nnow loading 03-01-07-01-02-01-01.wav\nnow loading 03-01-04-01-02-02-01.wav\nnow loading 03-01-07-01-02-01-15.wav\nnow loading 03-02-02-02-02-01-01.wav\nnow loading 03-02-05-02-02-01-11.wav\nnow loading 03-02-06-02-02-02-05.wav\nnow loading 03-01-03-01-02-02-11.wav\nnow loading 03-01-03-01-02-02-05.wav\nnow loading 03-02-05-02-02-01-05.wav\nnow loading 03-02-06-02-02-02-11.wav\nnow loading 03-02-02-01-02-01-09.wav\nnow loading 03-01-04-02-02-02-09.wav\nnow loading 03-01-07-02-02-01-09.wav\nnow loading 03-02-01-01-02-02-09.wav\nnow loading 03-02-06-01-02-02-19.wav\nnow loading 03-02-01-01-02-02-21.wav\nnow loading 03-01-07-02-02-01-21.wav\nnow loading 03-01-04-02-02-02-21.wav\nnow loading 03-01-03-02-02-02-19.wav\nnow loading 03-02-02-01-02-01-21.wav\nnow loading 03-02-05-01-02-01-19.wav\nnow loading 03-02-05-02-01-01-19.wav\nnow loading 03-02-02-02-01-01-21.wav\nnow loading 03-01-03-01-01-02-19.wav\nnow loading 03-01-04-01-01-02-21.wav\nnow loading 03-01-07-01-01-01-21.wav\nnow loading 03-02-06-02-01-02-19.wav\nnow loading 03-01-07-01-01-01-09.wav\nnow loading 03-01-04-01-01-02-09.wav\nnow loading 03-02-02-02-01-01-09.wav\nnow loading 03-02-03-01-02-02-15.wav\nnow loading 03-01-08-02-01-01-03.wav\nnow loading 03-01-06-02-02-02-01.wav\nnow loading 03-01-05-02-02-01-15.wav\nnow loading 03-01-06-02-02-02-15.wav\nnow loading 03-01-05-02-02-01-01.wav\nnow loading 03-01-08-02-01-01-17.wav\nnow loading 03-02-03-01-02-02-01.wav\nnow loading 03-02-04-01-02-02-11.wav\nnow loading 03-01-02-02-02-01-11.wav\nnow loading 03-01-02-02-02-01-05.wav\nnow loading 03-02-04-01-02-02-05.wav\nnow loading 03-02-04-02-01-02-05.wav\nnow loading 03-01-01-01-01-02-11.wav\nnow loading 03-01-02-01-01-01-05.wav\nnow loading 03-01-01-01-01-02-05.wav\nnow loading 03-01-02-01-01-01-11.wav\nnow loading 03-02-04-02-01-02-11.wav\nnow loading 03-01-08-01-02-01-17.wav\nnow loading 03-02-03-02-01-02-01.wav\nnow loading 03-01-06-01-01-02-15.wav\nnow loading 03-01-05-01-01-01-01.wav\nnow loading 03-01-06-01-01-02-01.wav\nnow loading 03-01-05-01-01-01-15.wav\nnow loading 03-02-03-02-01-02-15.wav\nnow loading 03-01-08-01-02-01-03.wav\nnow loading 03-02-03-01-01-02-21.wav\nnow loading 03-02-04-01-01-02-19.wav\nnow loading 03-01-05-02-01-01-21.wav\nnow loading 03-01-02-02-01-01-19.wav\nnow loading 03-01-06-02-01-02-21.wav\nnow loading 03-01-08-02-02-01-23.wav\nnow loading 03-01-06-02-01-02-09.wav\nnow loading 03-01-05-02-01-01-09.wav\nnow loading 03-02-03-01-01-02-09.wav\nnow loading 03-02-03-02-02-02-09.wav\nnow loading 03-01-05-01-02-01-09.wav\nnow loading 03-01-06-01-02-02-09.wav\nnow loading 03-01-08-01-01-01-23.wav\nnow loading 03-01-06-01-02-02-21.wav\nnow loading 03-01-01-01-02-02-19.wav\nnow loading 03-01-02-01-02-01-19.wav\nnow loading 03-01-05-01-02-01-21.wav\nnow loading 03-02-04-02-02-02-19.wav\nnow loading 03-02-03-02-02-02-21.wav\nnow loading 03-02-04-02-02-02-21.wav\nnow loading 03-02-03-02-02-02-19.wav\nnow loading 03-01-02-01-02-01-21.wav\nnow loading 03-01-05-01-02-01-19.wav\nnow loading 03-01-06-01-02-02-19.wav\nnow loading 03-01-01-01-02-02-21.wav\nnow loading 03-01-01-01-02-02-09.wav\nnow loading 03-01-02-01-02-01-09.wav\nnow loading 03-02-04-02-02-02-09.wav\nnow loading 03-02-04-01-01-02-09.wav\nnow loading 03-01-02-02-01-01-09.wav\nnow loading 03-01-06-02-01-02-19.wav\nnow loading 03-01-05-02-01-01-19.wav\nnow loading 03-01-02-02-01-01-21.wav\nnow loading 03-02-03-01-01-02-19.wav\nnow loading 03-02-04-01-01-02-21.wav\nnow loading 03-02-04-02-01-02-15.wav\nnow loading 03-01-01-01-01-02-01.wav\nnow loading 03-01-02-01-01-01-15.wav\nnow loading 03-01-01-01-01-02-15.wav\nnow loading 03-01-02-01-01-01-01.wav\nnow loading 03-02-04-02-01-02-01.wav\nnow loading 03-01-08-01-02-01-07.wav\nnow loading 03-02-03-02-01-02-11.wav\nnow loading 03-01-06-01-01-02-05.wav\nnow loading 03-01-05-01-01-01-11.wav\nnow loading 03-01-06-01-01-02-11.wav\nnow loading 03-01-05-01-01-01-05.wav\nnow loading 03-02-03-02-01-02-05.wav\nnow loading 03-01-08-01-02-01-13.wav\nnow loading 03-02-03-01-02-02-05.wav\nnow loading 03-01-08-02-01-01-13.wav\nnow loading 03-01-06-02-02-02-11.wav\nnow loading 03-01-05-02-02-01-05.wav\nnow loading 03-01-06-02-02-02-05.wav\nnow loading 03-01-05-02-02-01-11.wav\nnow loading 03-01-08-02-01-01-07.wav\nnow loading 03-02-03-01-02-02-11.wav\nnow loading 03-02-04-01-02-02-01.wav\nnow loading 03-01-02-02-02-01-01.wav\nnow loading 03-01-02-02-02-01-15.wav\nnow loading 03-02-04-01-02-02-15.wav\nnow loading 03-02-05-02-01-01-09.wav\nnow loading 03-01-03-01-01-02-09.wav\nnow loading 03-02-06-02-01-02-09.wav\nnow loading 03-02-06-02-01-02-21.wav\nnow loading 03-01-07-01-01-01-19.wav\nnow loading 03-01-03-01-01-02-21.wav\nnow loading 03-01-04-01-01-02-19.wav\nnow loading 03-02-05-02-01-01-21.wav\nnow loading 03-02-02-02-01-01-19.wav\nnow loading 03-02-02-01-02-01-19.wav\nnow loading 03-02-05-01-02-01-21.wav\nnow loading 03-01-04-02-02-02-19.wav\nnow loading 03-01-03-02-02-02-21.wav\nnow loading 03-01-07-02-02-01-19.wav\nnow loading 03-02-06-01-02-02-21.wav\nnow loading 03-02-01-01-02-02-19.wav\nnow loading 03-02-06-01-02-02-09.wav\nnow loading 03-01-03-02-02-02-09.wav\nnow loading 03-02-05-01-02-01-09.wav\nnow loading 03-02-02-02-02-01-05.wav\nnow loading 03-01-04-01-02-02-05.wav\nnow loading 03-01-07-01-02-01-11.wav\nnow loading 03-01-04-01-02-02-11.wav\nnow loading 03-01-07-01-02-01-05.wav\nnow loading 03-02-02-02-02-01-11.wav\nnow loading 03-02-05-02-02-01-01.wav\nnow loading 03-02-06-02-02-02-15.wav\nnow loading 03-01-03-01-02-02-01.wav\nnow loading 03-01-03-01-02-02-15.wav\nnow loading 03-02-05-02-02-01-15.wav\nnow loading 03-02-06-02-02-02-01.wav\nnow loading 03-02-05-01-01-01-15.wav\nnow loading 03-02-06-01-01-02-01.wav\nnow loading 03-01-03-02-01-02-15.wav\nnow loading 03-01-03-02-01-02-01.wav\nnow loading 03-02-05-01-01-01-01.wav\nnow loading 03-02-06-01-01-02-15.wav\nnow loading 03-02-02-01-01-01-11.wav\nnow loading 03-02-01-01-01-02-05.wav\nnow loading 03-01-04-02-01-02-11.wav\nnow loading 03-01-07-02-01-01-05.wav\nnow loading 03-01-04-02-01-02-05.wav\nnow loading 03-01-07-02-01-01-11.wav\nnow loading 03-02-02-01-01-01-05.wav\nnow loading 03-02-01-01-01-02-11.wav\nnow loading 03-01-07-02-01-01-10.wav\nnow loading 03-01-04-02-01-02-04.wav\nnow loading 03-02-01-01-01-02-10.wav\nnow loading 03-02-02-01-01-01-04.wav\nnow loading 03-02-01-01-01-02-04.wav\nnow loading 03-02-02-01-01-01-10.wav\nnow loading 03-01-07-02-01-01-04.wav\nnow loading 03-01-04-02-01-02-10.wav\nnow loading 03-02-06-01-01-02-14.wav\nnow loading 03-02-05-01-01-01-14.wav\nnow loading 03-01-03-02-01-02-14.wav\nnow loading 03-01-03-01-02-02-14.wav\nnow loading 03-02-05-02-02-01-14.wav\nnow loading 03-02-06-02-02-02-14.wav\nnow loading 03-01-07-01-02-01-04.wav\nnow loading 03-01-04-01-02-02-10.wav\nnow loading 03-02-02-02-02-01-10.wav\nnow loading 03-02-02-02-02-01-04.wav\nnow loading 03-01-07-01-02-01-10.wav\nnow loading 03-01-04-01-02-02-04.wav\nnow loading 03-01-03-02-02-02-08.wav\nnow loading 03-01-07-02-02-01-24.wav\nnow loading 03-02-05-01-02-01-08.wav\nnow loading 03-02-01-01-02-02-24.wav\nnow loading 03-02-02-01-02-01-24.wav\nnow loading 03-02-06-01-02-02-08.wav\nnow loading 03-01-04-02-02-02-24.wav\nnow loading 03-01-07-02-02-01-18.wav\nnow loading 03-02-06-01-02-02-20.wav\nnow loading 03-02-05-01-02-01-20.wav\nnow loading 03-01-03-02-02-02-20.wav\nnow loading 03-01-04-02-02-02-18.wav\nnow loading 03-01-04-01-01-02-18.wav\nnow loading 03-01-03-01-01-02-20.wav\nnow loading 03-02-05-02-01-01-20.wav\nnow loading 03-02-06-02-01-02-20.wav\nnow loading 03-01-07-01-01-01-18.wav\nnow loading 03-01-04-01-01-02-24.wav\nnow loading 03-02-06-02-01-02-08.wav\nnow loading 03-02-02-02-01-01-24.wav\nnow loading 03-02-05-02-01-01-08.wav\nnow loading 03-01-07-01-01-01-24.wav\nnow loading 03-01-03-01-01-02-08.wav\nnow loading 03-01-02-02-02-01-14.wav\nnow loading 03-02-04-01-02-02-14.wav\nnow loading 03-01-05-02-02-01-10.wav\nnow loading 03-01-06-02-02-02-04.wav\nnow loading 03-01-08-02-01-01-06.wav\nnow loading 03-02-03-01-02-02-10.wav\nnow loading 03-02-03-01-02-02-04.wav\nnow loading 03-01-08-02-01-01-12.wav\nnow loading 03-01-05-02-02-01-04.wav\nnow loading 03-01-06-02-02-02-10.wav\nnow loading 03-01-05-01-01-01-04.wav\nnow loading 03-01-06-01-01-02-10.wav\nnow loading 03-02-03-02-01-02-04.wav\nnow loading 03-01-08-01-02-01-12.wav\nnow loading 03-01-08-01-02-01-06.wav\nnow loading 03-02-03-02-01-02-10.wav\nnow loading 03-01-05-01-01-01-10.wav\nnow loading 03-01-06-01-01-02-04.wav\nnow loading 03-01-01-01-01-02-14.wav\nnow loading 03-02-04-02-01-02-14.wav\nnow loading 03-01-02-01-01-01-14.wav\nnow loading 03-01-02-02-01-01-20.wav\nnow loading 03-01-05-02-01-01-18.wav\nnow loading 03-02-04-01-01-02-20.wav\nnow loading 03-01-06-02-01-02-18.wav\nnow loading 03-01-05-02-01-01-24.wav\nnow loading 03-02-03-01-01-02-24.wav\nnow loading 03-02-04-01-01-02-08.wav\nnow loading 03-01-02-02-01-01-08.wav\nnow loading 03-01-06-02-01-02-24.wav\nnow loading 03-01-06-01-02-02-24.wav\nnow loading 03-01-02-01-02-01-08.wav\nnow loading 03-02-04-02-02-02-08.wav\nnow loading 03-02-03-02-02-02-24.wav\nnow loading 03-01-01-01-02-02-08.wav\nnow loading 03-01-05-01-02-01-24.wav\nnow loading 03-01-01-01-02-02-20.wav\nnow loading 03-01-06-01-02-02-18.wav\nnow loading 03-02-04-02-02-02-20.wav\nnow loading 03-01-05-01-02-01-18.wav\nnow loading 03-01-02-01-02-01-20.wav\nnow loading 03-01-08-01-01-01-18.wav\nnow loading 03-01-01-01-02-02-22.wav\nnow loading 03-01-02-01-02-01-22.wav\nnow loading 03-02-04-02-02-02-22.wav\nnow loading 03-01-08-01-01-01-24.wav\nnow loading 03-01-08-02-02-01-24.wav\nnow loading 03-02-04-01-01-02-22.wav\nnow loading 03-01-02-02-01-01-22.wav\nnow loading 03-01-08-02-02-01-18.wav\nnow loading 03-02-04-02-01-02-02.wav\nnow loading 03-01-01-01-01-02-16.wav\nnow loading 03-01-02-01-01-01-02.wav\nnow loading 03-01-01-01-01-02-02.wav\nnow loading 03-01-02-01-01-01-16.wav\nnow loading 03-02-04-02-01-02-16.wav\nnow loading 03-01-08-01-02-01-10.wav\nnow loading 03-02-03-02-01-02-06.wav\nnow loading 03-01-06-01-01-02-12.wav\nnow loading 03-01-05-01-01-01-06.wav\nnow loading 03-01-06-01-01-02-06.wav\nnow loading 03-01-05-01-01-01-12.wav\nnow loading 03-02-03-02-01-02-12.wav\nnow loading 03-01-08-01-02-01-04.wav\nnow loading 03-02-03-01-02-02-12.wav\nnow loading 03-01-08-02-01-01-04.wav\nnow loading 03-01-06-02-02-02-06.wav\nnow loading 03-01-05-02-02-01-12.wav\nnow loading 03-01-06-02-02-02-12.wav\nnow loading 03-01-05-02-02-01-06.wav\nnow loading 03-01-08-02-01-01-10.wav\nnow loading 03-02-03-01-02-02-06.wav\nnow loading 03-02-04-01-02-02-16.wav\nnow loading 03-01-02-02-02-01-16.wav\nnow loading 03-01-02-02-02-01-02.wav\nnow loading 03-02-04-01-02-02-02.wav\nnow loading 03-02-05-02-01-01-22.wav\nnow loading 03-01-03-01-01-02-22.wav\nnow loading 03-02-06-02-01-02-22.wav\nnow loading 03-02-06-01-02-02-22.wav\nnow loading 03-01-03-02-02-02-22.wav\nnow loading 03-02-05-01-02-01-22.wav\nnow loading 03-02-02-02-02-01-12.wav\nnow loading 03-01-04-01-02-02-12.wav\nnow loading 03-01-07-01-02-01-06.wav\nnow loading 03-01-04-01-02-02-06.wav\nnow loading 03-01-07-01-02-01-12.wav\nnow loading 03-02-02-02-02-01-06.wav\nnow loading 03-02-05-02-02-01-16.wav\nnow loading 03-02-06-02-02-02-02.wav\nnow loading 03-01-03-01-02-02-16.wav\nnow loading 03-01-03-01-02-02-02.wav\nnow loading 03-02-05-02-02-01-02.wav\nnow loading 03-02-06-02-02-02-16.wav\nnow loading 03-02-05-01-01-01-02.wav\nnow loading 03-02-06-01-01-02-16.wav\nnow loading 03-01-03-02-01-02-02.wav\nnow loading 03-01-03-02-01-02-16.wav\nnow loading 03-02-05-01-01-01-16.wav\nnow loading 03-02-06-01-01-02-02.wav\nnow loading 03-02-02-01-01-01-06.wav\nnow loading 03-02-01-01-01-02-12.wav\nnow loading 03-01-04-02-01-02-06.wav\nnow loading 03-01-07-02-01-01-12.wav\nnow loading 03-01-04-02-01-02-12.wav\nnow loading 03-01-07-02-01-01-06.wav\nnow loading 03-02-02-01-01-01-12.wav\nnow loading 03-02-01-01-01-02-06.wav\nnow loading 03-01-07-02-01-01-07.wav\nnow loading 03-01-04-02-01-02-13.wav\nnow loading 03-02-01-01-01-02-07.wav\nnow loading 03-02-02-01-01-01-13.wav\nnow loading 03-02-01-01-01-02-13.wav\nnow loading 03-02-02-01-01-01-07.wav\nnow loading 03-01-07-02-01-01-13.wav\nnow loading 03-01-04-02-01-02-07.wav\nnow loading 03-01-03-02-01-02-17.wav\nnow loading 03-02-06-01-01-02-03.wav\nnow loading 03-02-05-01-01-01-17.wav\nnow loading 03-02-06-01-01-02-17.wav\nnow loading 03-02-05-01-01-01-03.wav\nnow loading 03-01-03-02-01-02-03.wav\nnow loading 03-01-03-01-02-02-03.wav\nnow loading 03-02-06-02-02-02-17.wav\nnow loading 03-02-05-02-02-01-03.wav\nnow loading 03-02-06-02-02-02-03.wav\nnow loading 03-02-05-02-02-01-17.wav\nnow loading 03-01-03-01-02-02-17.wav\nnow loading 03-01-07-01-02-01-13.wav\nnow loading 03-01-04-01-02-02-07.wav\nnow loading 03-02-02-02-02-01-07.wav\nnow loading 03-02-02-02-02-01-13.wav\nnow loading 03-01-07-01-02-01-07.wav\nnow loading 03-01-04-01-02-02-13.wav\nnow loading 03-01-03-02-02-02-23.wav\nnow loading 03-02-05-01-02-01-23.wav\nnow loading 03-02-06-01-02-02-23.wav\nnow loading 03-02-06-02-01-02-23.wav\nnow loading 03-02-05-02-01-01-23.wav\nnow loading 03-01-03-01-01-02-23.wav\nnow loading 03-01-02-02-02-01-03.wav\nnow loading 03-02-04-01-02-02-03.wav\nnow loading 03-02-04-01-02-02-17.wav\nnow loading 03-01-02-02-02-01-17.wav\nnow loading 03-01-05-02-02-01-07.wav\nnow loading 03-01-06-02-02-02-13.wav\nnow loading 03-01-08-02-01-01-11.wav\nnow loading 03-02-03-01-02-02-07.wav\nnow loading 03-02-03-01-02-02-13.wav\nnow loading 03-01-08-02-01-01-05.wav\nnow loading 03-01-05-02-02-01-13.wav\nnow loading 03-01-06-02-02-02-07.wav\nnow loading 03-01-05-01-01-01-13.wav\nnow loading 03-01-06-01-01-02-07.wav\nnow loading 03-02-03-02-01-02-13.wav\nnow loading 03-01-08-01-02-01-05.wav\nnow loading 03-01-08-01-02-01-11.wav\nnow loading 03-02-03-02-01-02-07.wav\nnow loading 03-01-05-01-01-01-07.wav\nnow loading 03-01-06-01-01-02-13.wav\nnow loading 03-01-02-01-01-01-17.wav\nnow loading 03-01-01-01-01-02-03.wav\nnow loading 03-02-04-02-01-02-17.wav\nnow loading 03-02-04-02-01-02-03.wav\nnow loading 03-01-02-01-01-01-03.wav\nnow loading 03-01-01-01-01-02-17.wav\nnow loading 03-01-08-02-02-01-19.wav\nnow loading 03-02-04-01-01-02-23.wav\nnow loading 03-01-02-02-01-01-23.wav\nnow loading 03-01-02-01-02-01-23.wav\nnow loading 03-02-04-02-02-02-23.wav\nnow loading 03-01-08-01-01-01-19.wav\nnow loading 03-01-01-01-02-02-23.wav\n"
    }
   ],
   "source": [
    "s_df = load_data()"
   ]
  },
  {
   "cell_type": "code",
   "execution_count": 16,
   "metadata": {},
   "outputs": [],
   "source": [
    "s_df = s_df.set_index('file_name')"
   ]
  },
  {
   "cell_type": "code",
   "execution_count": 17,
   "metadata": {},
   "outputs": [
    {
     "output_type": "execute_result",
     "data": {
      "text/plain": "                     channel    emotion intensity  \\\nfile_name                                           \n03-01-06-01-02-02-02  speech    fearful    normal   \n03-01-05-01-02-01-16  speech      angry    normal   \n03-02-03-02-02-02-16    song      happy    strong   \n03-01-08-01-01-01-14  speech  surprised    normal   \n03-02-03-02-02-02-02    song      happy    strong   \n...                      ...        ...       ...   \n03-01-02-02-01-01-23  speech       calm    strong   \n03-01-02-01-02-01-23  speech       calm    normal   \n03-02-04-02-02-02-23    song        sad    strong   \n03-01-08-01-01-01-19  speech  surprised    normal   \n03-01-01-01-02-02-23  speech    neutral    normal   \n\n                                         statement repetition actor  \\\nfile_name                                                             \n03-01-06-01-02-02-02  Dogs are sitting by the door         02    02   \n03-01-05-01-02-01-16  Dogs are sitting by the door         01    16   \n03-02-03-02-02-02-16  Dogs are sitting by the door         02    16   \n03-01-08-01-01-01-14  Kids are talking by the door         01    14   \n03-02-03-02-02-02-02  Dogs are sitting by the door         02    02   \n...                                            ...        ...   ...   \n03-01-02-02-01-01-23  Kids are talking by the door         01    23   \n03-01-02-01-02-01-23  Dogs are sitting by the door         01    23   \n03-02-04-02-02-02-23  Dogs are sitting by the door         02    23   \n03-01-08-01-01-01-19  Kids are talking by the door         01    19   \n03-01-01-01-02-02-23  Dogs are sitting by the door         02    23   \n\n                                                                feature  \nfile_name                                                                \n03-01-06-01-02-02-02  [-590.861572265625, 50.68805694580078, -24.538...  \n03-01-05-01-02-01-16  [-563.286376953125, 49.64911651611328, -6.1054...  \n03-02-03-02-02-02-16  [-552.8955688476562, 57.31650924682617, -18.98...  \n03-01-08-01-01-01-14  [-710.7835693359375, 48.772247314453125, -2.86...  \n03-02-03-02-02-02-02  [-532.0457763671875, 59.02028274536133, -40.61...  \n...                                                                 ...  \n03-01-02-02-01-01-23  [-692.979248046875, 79.81969451904297, 5.41380...  \n03-01-02-01-02-01-23  [-689.0542602539062, 66.57259368896484, 3.8226...  \n03-02-04-02-02-02-23  [-592.8164672851562, 99.78511047363281, -2.307...  \n03-01-08-01-01-01-19  [-695.0343017578125, 89.54228210449219, 9.1574...  \n03-01-01-01-02-02-23  [-645.5985107421875, 73.78517150878906, 2.4070...  \n\n[2452 rows x 7 columns]",
      "text/html": "<div>\n<style scoped>\n    .dataframe tbody tr th:only-of-type {\n        vertical-align: middle;\n    }\n\n    .dataframe tbody tr th {\n        vertical-align: top;\n    }\n\n    .dataframe thead th {\n        text-align: right;\n    }\n</style>\n<table border=\"1\" class=\"dataframe\">\n  <thead>\n    <tr style=\"text-align: right;\">\n      <th></th>\n      <th>channel</th>\n      <th>emotion</th>\n      <th>intensity</th>\n      <th>statement</th>\n      <th>repetition</th>\n      <th>actor</th>\n      <th>feature</th>\n    </tr>\n    <tr>\n      <th>file_name</th>\n      <th></th>\n      <th></th>\n      <th></th>\n      <th></th>\n      <th></th>\n      <th></th>\n      <th></th>\n    </tr>\n  </thead>\n  <tbody>\n    <tr>\n      <th>03-01-06-01-02-02-02</th>\n      <td>speech</td>\n      <td>fearful</td>\n      <td>normal</td>\n      <td>Dogs are sitting by the door</td>\n      <td>02</td>\n      <td>02</td>\n      <td>[-590.861572265625, 50.68805694580078, -24.538...</td>\n    </tr>\n    <tr>\n      <th>03-01-05-01-02-01-16</th>\n      <td>speech</td>\n      <td>angry</td>\n      <td>normal</td>\n      <td>Dogs are sitting by the door</td>\n      <td>01</td>\n      <td>16</td>\n      <td>[-563.286376953125, 49.64911651611328, -6.1054...</td>\n    </tr>\n    <tr>\n      <th>03-02-03-02-02-02-16</th>\n      <td>song</td>\n      <td>happy</td>\n      <td>strong</td>\n      <td>Dogs are sitting by the door</td>\n      <td>02</td>\n      <td>16</td>\n      <td>[-552.8955688476562, 57.31650924682617, -18.98...</td>\n    </tr>\n    <tr>\n      <th>03-01-08-01-01-01-14</th>\n      <td>speech</td>\n      <td>surprised</td>\n      <td>normal</td>\n      <td>Kids are talking by the door</td>\n      <td>01</td>\n      <td>14</td>\n      <td>[-710.7835693359375, 48.772247314453125, -2.86...</td>\n    </tr>\n    <tr>\n      <th>03-02-03-02-02-02-02</th>\n      <td>song</td>\n      <td>happy</td>\n      <td>strong</td>\n      <td>Dogs are sitting by the door</td>\n      <td>02</td>\n      <td>02</td>\n      <td>[-532.0457763671875, 59.02028274536133, -40.61...</td>\n    </tr>\n    <tr>\n      <th>...</th>\n      <td>...</td>\n      <td>...</td>\n      <td>...</td>\n      <td>...</td>\n      <td>...</td>\n      <td>...</td>\n      <td>...</td>\n    </tr>\n    <tr>\n      <th>03-01-02-02-01-01-23</th>\n      <td>speech</td>\n      <td>calm</td>\n      <td>strong</td>\n      <td>Kids are talking by the door</td>\n      <td>01</td>\n      <td>23</td>\n      <td>[-692.979248046875, 79.81969451904297, 5.41380...</td>\n    </tr>\n    <tr>\n      <th>03-01-02-01-02-01-23</th>\n      <td>speech</td>\n      <td>calm</td>\n      <td>normal</td>\n      <td>Dogs are sitting by the door</td>\n      <td>01</td>\n      <td>23</td>\n      <td>[-689.0542602539062, 66.57259368896484, 3.8226...</td>\n    </tr>\n    <tr>\n      <th>03-02-04-02-02-02-23</th>\n      <td>song</td>\n      <td>sad</td>\n      <td>strong</td>\n      <td>Dogs are sitting by the door</td>\n      <td>02</td>\n      <td>23</td>\n      <td>[-592.8164672851562, 99.78511047363281, -2.307...</td>\n    </tr>\n    <tr>\n      <th>03-01-08-01-01-01-19</th>\n      <td>speech</td>\n      <td>surprised</td>\n      <td>normal</td>\n      <td>Kids are talking by the door</td>\n      <td>01</td>\n      <td>19</td>\n      <td>[-695.0343017578125, 89.54228210449219, 9.1574...</td>\n    </tr>\n    <tr>\n      <th>03-01-01-01-02-02-23</th>\n      <td>speech</td>\n      <td>neutral</td>\n      <td>normal</td>\n      <td>Dogs are sitting by the door</td>\n      <td>02</td>\n      <td>23</td>\n      <td>[-645.5985107421875, 73.78517150878906, 2.4070...</td>\n    </tr>\n  </tbody>\n</table>\n<p>2452 rows × 7 columns</p>\n</div>"
     },
     "metadata": {},
     "execution_count": 17
    }
   ],
   "source": [
    "s_df"
   ]
  },
  {
   "cell_type": "markdown",
   "metadata": {},
   "source": [
    "# Phase 3 - Exploratory Data Analysis\n",
    "\n",
    "## 3.1 Sampling Rates\n",
    "\n",
    "## 3.2 MFCC\n",
    "\n",
    "## 3.3 Chroma\n",
    "\n",
    "## 3.4 MEL"
   ]
  },
  {
   "cell_type": "code",
   "execution_count": null,
   "metadata": {},
   "outputs": [],
   "source": []
  }
 ],
 "metadata": {
  "kernelspec": {
   "display_name": "Python 3.7.7 64-bit (conda)",
   "language": "python",
   "name": "python37764bitconda77dc9d652bc147c6a9d0ea8af6b5ba0e"
  },
  "language_info": {
   "codemirror_mode": {
    "name": "ipython",
    "version": 3
   },
   "file_extension": ".py",
   "mimetype": "text/x-python",
   "name": "python",
   "nbconvert_exporter": "python",
   "pygments_lexer": "ipython3",
   "version": "3.7.7-final"
  }
 },
 "nbformat": 4,
 "nbformat_minor": 4
}